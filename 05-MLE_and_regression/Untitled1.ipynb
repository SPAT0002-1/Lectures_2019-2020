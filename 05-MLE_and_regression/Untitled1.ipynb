{
 "cells": [
  {
   "cell_type": "code",
   "execution_count": 40,
   "metadata": {},
   "outputs": [],
   "source": [
    "import numpy as np \n",
    "from matplotlib import pyplot as plt\n",
    "%matplotlib inline"
   ]
  },
  {
   "cell_type": "code",
   "execution_count": 31,
   "metadata": {},
   "outputs": [],
   "source": [
    "y = np.array([0,1,2,3,4,3,2,1,0])\n",
    "x = np.arange(9)"
   ]
  },
  {
   "cell_type": "code",
   "execution_count": 32,
   "metadata": {},
   "outputs": [
    {
     "data": {
      "text/plain": [
       "(9, 9)"
      ]
     },
     "execution_count": 32,
     "metadata": {},
     "output_type": "execute_result"
    }
   ],
   "source": [
    "len(x), len(y)"
   ]
  },
  {
   "cell_type": "code",
   "execution_count": 33,
   "metadata": {},
   "outputs": [
    {
     "data": {
      "text/plain": [
       "4"
      ]
     },
     "execution_count": 33,
     "metadata": {},
     "output_type": "execute_result"
    }
   ],
   "source": [
    "value_of_maximum = y.max()\n",
    "value_of_maximum"
   ]
  },
  {
   "cell_type": "code",
   "execution_count": 34,
   "metadata": {},
   "outputs": [
    {
     "data": {
      "text/plain": [
       "4"
      ]
     },
     "execution_count": 34,
     "metadata": {},
     "output_type": "execute_result"
    }
   ],
   "source": [
    "max_position = y.argmax()\n",
    "max_position"
   ]
  },
  {
   "cell_type": "code",
   "execution_count": 42,
   "metadata": {},
   "outputs": [
    {
     "data": {
      "text/plain": [
       "2"
      ]
     },
     "execution_count": 42,
     "metadata": {},
     "output_type": "execute_result"
    }
   ],
   "source": [
    "position_half_maximum_left = y[0:max_position].searchsorted(value_of_maximum/2)\n",
    "position_half_maximum_left"
   ]
  },
  {
   "cell_type": "code",
   "execution_count": 43,
   "metadata": {
    "scrolled": true
   },
   "outputs": [
    {
     "name": "stdout",
     "output_type": "stream",
     "text": [
      "Help on function searchsorted in module numpy:\n",
      "\n",
      "searchsorted(a, v, side='left', sorter=None)\n",
      "    Find indices where elements should be inserted to maintain order.\n",
      "    \n",
      "    Find the indices into a sorted array `a` such that, if the\n",
      "    corresponding elements in `v` were inserted before the indices, the\n",
      "    order of `a` would be preserved.\n",
      "    \n",
      "    Assuming that `a` is sorted:\n",
      "    \n",
      "    ======  ============================\n",
      "    `side`  returned index `i` satisfies\n",
      "    ======  ============================\n",
      "    left    ``a[i-1] < v <= a[i]``\n",
      "    right   ``a[i-1] <= v < a[i]``\n",
      "    ======  ============================\n",
      "    \n",
      "    Parameters\n",
      "    ----------\n",
      "    a : 1-D array_like\n",
      "        Input array. If `sorter` is None, then it must be sorted in\n",
      "        ascending order, otherwise `sorter` must be an array of indices\n",
      "        that sort it.\n",
      "    v : array_like\n",
      "        Values to insert into `a`.\n",
      "    side : {'left', 'right'}, optional\n",
      "        If 'left', the index of the first suitable location found is given.\n",
      "        If 'right', return the last such index.  If there is no suitable\n",
      "        index, return either 0 or N (where N is the length of `a`).\n",
      "    sorter : 1-D array_like, optional\n",
      "        Optional array of integer indices that sort array a into ascending\n",
      "        order. They are typically the result of argsort.\n",
      "    \n",
      "        .. versionadded:: 1.7.0\n",
      "    \n",
      "    Returns\n",
      "    -------\n",
      "    indices : array of ints\n",
      "        Array of insertion points with the same shape as `v`.\n",
      "    \n",
      "    See Also\n",
      "    --------\n",
      "    sort : Return a sorted copy of an array.\n",
      "    histogram : Produce histogram from 1-D data.\n",
      "    \n",
      "    Notes\n",
      "    -----\n",
      "    Binary search is used to find the required insertion points.\n",
      "    \n",
      "    As of NumPy 1.4.0 `searchsorted` works with real/complex arrays containing\n",
      "    `nan` values. The enhanced sort order is documented in `sort`.\n",
      "    \n",
      "    This function uses the same algorithm as the builtin python `bisect.bisect_left`\n",
      "    (``side='left'``) and `bisect.bisect_right` (``side='right'``) functions,\n",
      "    which is also vectorized in the `v` argument.\n",
      "    \n",
      "    Examples\n",
      "    --------\n",
      "    >>> np.searchsorted([1,2,3,4,5], 3)\n",
      "    2\n",
      "    >>> np.searchsorted([1,2,3,4,5], 3, side='right')\n",
      "    3\n",
      "    >>> np.searchsorted([1,2,3,4,5], [-10, 10, 2, 3])\n",
      "    array([0, 5, 1, 2])\n",
      "\n"
     ]
    }
   ],
   "source": [
    "help(np.searchsorted)"
   ]
  },
  {
   "cell_type": "code",
   "execution_count": 37,
   "metadata": {},
   "outputs": [],
   "source": [
    "position_half_maximum_right = len(y)-1-position_half_maximum_left"
   ]
  },
  {
   "cell_type": "code",
   "execution_count": 38,
   "metadata": {},
   "outputs": [],
   "source": [
    "FWHM = position_half_maximum_right - position_half_maximum_left"
   ]
  },
  {
   "cell_type": "code",
   "execution_count": 39,
   "metadata": {},
   "outputs": [
    {
     "data": {
      "text/plain": [
       "4"
      ]
     },
     "execution_count": 39,
     "metadata": {},
     "output_type": "execute_result"
    }
   ],
   "source": [
    "FWHM"
   ]
  },
  {
   "cell_type": "code",
   "execution_count": 41,
   "metadata": {},
   "outputs": [
    {
     "data": {
      "text/plain": [
       "[<matplotlib.lines.Line2D at 0x1053634fd0>]"
      ]
     },
     "execution_count": 41,
     "metadata": {},
     "output_type": "execute_result"
    },
    {
     "data": {
      "image/png": "[encoded data removed]",
      "text/plain": [
       "<Figure size 432x288 with 1 Axes>"
      ]
     },
     "metadata": {
      "needs_background": "light"
     },
     "output_type": "display_data"
    }
   ],
   "source": [
    "plt.plot(x, y)"
   ]
  },
  {
   "cell_type": "code",
   "execution_count": null,
   "metadata": {},
   "outputs": [],
   "source": []
  }
 ],
 "metadata": {
  "kernelspec": {
   "display_name": "Python [conda env:intel-python3]",
   "language": "python",
   "name": "conda-env-intel-python3-py"
  },
  "language_info": {
   "codemirror_mode": {
    "name": "ipython",
    "version": 3
   },
   "file_extension": ".py",
   "mimetype": "text/x-python",
   "name": "python",
   "nbconvert_exporter": "python",
   "pygments_lexer": "ipython3",
   "version": "3.7.4"
  }
 },
 "nbformat": 4,
 "nbformat_minor": 2
}
