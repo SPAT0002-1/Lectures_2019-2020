{
 "cells": [
  {
   "cell_type": "markdown",
   "metadata": {},
   "source": [
    "# Classical Statistical Inference: Part 1"
   ]
  },
  {
   "cell_type": "markdown",
   "metadata": {},
   "source": [
    "## Table of Content:\n",
    "\n",
    "- I. [Basic probability concepts](#I)    \n",
    "    * I.1 [Probability axioms](#I.1-Probability-axioms)\n",
    "    * I.2 [What is a conditional probability and what is the Bayes theorem ?](#I.2-What-is-a-conditional-probability-and-what-is-the-Bayes-theorem-?)\n",
    "    * I.3 [What is a random variable ?](#I.3-What-is-a-random-variable-?)\n",
    "    * I.4 [What is a probability density function ?](#pdf)\n",
    "    * I.4b [pdf, conditional probability and Bayes rule](#bayes)\n",
    "    * I.5 [What is a cumulative density function ?](#I.5-What-is-a-cumulative-density-function-?)\n",
    "    * I.6 [Working with pdf and CDF](Basic-statistics_02.ipynb)\n",
    "\n",
    "- X. [References and supplementary material](#X)"
   ]
  },
  {
   "cell_type": "code",
   "execution_count": 2,
   "metadata": {},
   "outputs": [],
   "source": [
    "# Modules to be used in this notebook\n",
    "import numpy as np\n",
    "import scipy.stats\n",
    "import matplotlib.pyplot as plt\n",
    "%matplotlib inline"
   ]
  },
  {
   "cell_type": "markdown",
   "metadata": {},
   "source": [
    "## I Basic (probability) concepts:  <a class=\"anchor\" id=\"I\"></a>\n",
    "\n",
    "First of all, let's remind us some definitions and notations, so everybody is on the same page. \n",
    "\n",
    "In probability theory, we define the following:\n",
    "- the set of all possible outcomes of an experiment is generally called **sample space** and denoted, $\\Omega$. \n",
    "- Points in $\\Omega$, are called **realisations** $\\omega$. \n",
    "- An **Event** is a subset of $\\Omega$ (i.e. a subsample of the $\\omega$).\n",
    "- $p(A)$ is the **probability** of an event A. ($p(A)$ can also refer to a probability that a value of $x$ falls in a d$x$ wide interval around $x$. )\n",
    "\n",
    "**Example**: We measure the magnitude $m$ of a variable star. Then $\\Omega = {\\rm I\\!R}$ (or some plausible range such as $]-30, 40 [ $, but this makes little difference in practice and $\\Omega$ can in general be larger than needed). $\\omega$ is a value in $\\Omega$. While an event is the ensemble of magnitude measurements that are e.g. such that $m_i > 15$ and $m_i <=15.5$, hence this *event* is A = ]15, 15.5]. Note that an event *can* also be a single point (i.e. A = [17.]). \n",
    "\n",
    "If you are confortable with your understanding of basic probability concepts, you can go directly to [Sect. I.3](#I.3-What-is-a-random-variable-?). Otherwise, the next sections are there to refresh your mind. \n",
    "\n",
    "### I.1 Probability axioms\n",
    "\n",
    "To qualify as a probability, $p(A)$ must satisfy the three following axioms (also called [Kolmogorov](https://fr.wikipedia.org/wiki/Andre%C3%AF_Kolmogorov) axioms).\n",
    "\n",
    "1. $p(A) > 0$ for each A. \n",
    "2. $p(\\Omega) = 1$\n",
    "3. If ($A_1, A_2, A_3, ...$ are disjoint events), then   \n",
    "$$\n",
    "p\\left(\\bigcup_{i=1}^{\\infty} {A_i}\\right) = \\sum_{i=1}^{\\infty} p(A_i), \n",
    "$$\n",
    "where $\\cup$ stands for **union**. \n",
    "\n",
    "As a consequence of these axioms, several useful rules can be derived. \n",
    "\n",
    "#### The *sum rule*:\n",
    "\n",
    "$$\n",
    "p(A \\cup B) = p(A) + p(B)-p(A \\cap B)\n",
    "$$\n",
    "\n",
    "where $\\cap$ stands for **intersection**. Note that in some stats books, you may see $p(A \\cap B)$ written $p(AB)$. \n",
    "\n",
    "This sum rule, avoids double counting the intersection when calculating the probability the *both* A and B happen (i.e. $A \\cup B$) as illustrated on the figure below (based on Fig. 3.1. of our reference [book](#book)). \n",
    "\n",
    "#### Illustration of the *sum rule*: \n",
    "![From astroML book](Figures/Sum_of_probabilities_2.png)"
   ]
  },
  {
   "cell_type": "markdown",
   "metadata": {},
   "source": [
    "#### Law of total probability: \n",
    "\n",
    "If events $B_i$ ($i=$1, 2, ... N) are *disjoint*, and their *union* is the set of all possible outcomes (i.e. $p(\\cup_{i=1}^N B_i) = 1$) then:\n",
    "\n",
    "$$\n",
    "p(A) = \\sum_i p(A\\,\\cap\\,B_i) = \\sum_i p(A \\,|\\, B_i)~p(B_i)\n",
    "$$\n",
    "\n",
    "This expression is known as the **law of total probability**. \n",
    "\n",
    "#### Conditional probability and law of total probability: \n",
    "\n",
    "Conditional probabilities also satisfy the law of total probability. Assuming that an event C is not mutually exclusive with A, or any B_i, then:   \n",
    "\n",
    "$$\n",
    "p(A \\, | \\, C) = \\sum_i p(A \\,|\\,C \\,\\cap \\, B_i)~p(B_i \\,| C)\n",
    "$$\n",
    "\n",
    "We'll come back to conditional probabilities later.\n",
    "\n",
    "**Note:** Those probability axioms and lemma are accepted by both frequentist and bayesian statisticians. The difference between those \"two schools\" come from the *interpretation* of probabilities of an event A, and of conditional probabilities."
   ]
  },
  {
   "cell_type": "markdown",
   "metadata": {},
   "source": [
    "### I.2 What is a conditional probability and what is the Bayes theorem ? \n",
    "\n",
    "#### Definition: \n",
    "\n",
    "Assuming that $p(B) > 0$, the **conditional probability** of A *given* B (that we write $p(A \\, | \\, B)$ ), is defined as: \n",
    "\n",
    "$$\n",
    "p(A \\, | \\, B) = \\frac{p(A \\, \\cap \\, B)}{p(B)}\n",
    "$$\n",
    "\n",
    "In other words, the conditional probability of A *given* B is **the fraction of the times A occurs when B occurs**. \n",
    "\n",
    "If A and B are independent events, $p(A \\cap B)$ seen as the probability that *both* A and B will happen, is equal to:    \n",
    "$$\n",
    "p(A \\cap B) = p(A \\,|\\, B)~ p(B) = p(B \\,|\\, A)~ p(A).\n",
    "$$\n",
    "\n",
    "Having \"A given B\" means that we consider events A given that B is True.\n",
    "\n",
    "As we see here, *in general*  $p(A \\, | \\, B) \\ne p(B \\, | \\, A)$. The probability to have feaver given you have a flu is close to 1, but the probability you have a flu given you have fever is surely lower than 1 !  \n",
    "\n",
    "One can re-write the above expression the following way:\n",
    "\n",
    "$$\n",
    "p(A\\,|\\,B) = \\frac{p(B\\,|\\,A) \\, p(A)}{p(B)}\n",
    "$$\n",
    "\n",
    "This expression, devised by reverand Bayes during the 16th century, what is called the **Bayes theorem**.   \n",
    "Note that we can see A as some observation and B as some model parameters ... We'll discuss this idea in a future lecture. "
   ]
  },
  {
   "cell_type": "markdown",
   "metadata": {},
   "source": [
    "### I.3 What is a random variable ?\n",
    "\n",
    "In statistical inference, we are dealing with *data*. How do we link *sample space* and *events* to data ? The link is the concept of of *random* (or *stochastic*) variable.  \n",
    "\n",
    "#### Definition: \n",
    "\n",
    "Mathematically, a random variable is a *mapping* \n",
    "$$\n",
    "X: \\Omega \\to {\\rm I\\!R}\n",
    "$$\n",
    "that assigns a real number $X(\\omega_i)~$ to each outcome $\\omega$. \n",
    "\n",
    "A less formal definition is simply that a random variable is a variable whose value results from the measurement of a quantity that is subject to random variations. \n",
    "\n",
    "**Example:** You roll a dice. You can then define $X(\\omega)$ be the *number of times you draw an even number* in a sequence $\\omega$. Imagine you have rolled your dice 10 times, and get  $\\omega = {1, {\\bf 2, 4, 2}, 5, {\\bf 4, 6}, 3, 3, 1 }$. Then $X(\\omega) = 5$ is the value taken by your *random variable* X. \n",
    "\n",
    "Note that you can have either *continuous* or *discrete* random variables. If they form a countable set, they are discrete. They are continuous otherwise. \n",
    "\n",
    "**Warning**, a random variable is *NOT* like typical mathematical variables as it can take *different values* (each with an associated probability). In litterature, you will generaly find random variables written with *CAPITAL* letters, and their particular *realization* with *lowercase*. A realisation of a random variable is also called \"random variate\". \n",
    "\n",
    "**Random variable with numpy**\n",
    "\n",
    "In numpy there is a sub-module called random that contains many functions that involve random selection. In particular there is a function `choice` that allows you to make a choice at random. It picks one item at random from an array, and it is equally likely to pick any of the items. The function call is `np.random.choice(array_name)`, where `array_name` is the name of the array from which to make the choice."
   ]
  },
  {
   "cell_type": "code",
   "execution_count": null,
   "metadata": {},
   "outputs": [],
   "source": [
    "# Let's build a small array with classification of objects on a CCD: \n",
    "class_phot = np.array(['star', 'galaxy', 'galaxy', 'star', 'star'])\n",
    "np.random.choice(class_phot)"
   ]
  },
  {
   "cell_type": "markdown",
   "metadata": {},
   "source": [
    "If you re-rerun the above cell multiple times, you will see that the output changes, because the output is taken at random. If you provide a second argument (`size = n`), it will repeat the process $n$ number of times. In practice, this `method` allows you to *generate a random sample* from a 1-D array. You can add a third argument that specifies if you allow replacements or not as the output: i.e. `replace=False` means that the value stored at a given index of the array will only appear once in the output. "
   ]
  },
  {
   "cell_type": "code",
   "execution_count": null,
   "metadata": {},
   "outputs": [],
   "source": [
    "np.random.choice(class_phot, size=3)    "
   ]
  },
  {
   "cell_type": "code",
   "execution_count": null,
   "metadata": {},
   "outputs": [],
   "source": [
    "# Use e.g. np.arange(5) to compare the behaviour with replace=True / replace = False\n"
   ]
  },
  {
   "cell_type": "code",
   "execution_count": null,
   "metadata": {},
   "outputs": [],
   "source": [
    "#Try out with an array size < size of the random sample \n"
   ]
  },
  {
   "cell_type": "code",
   "execution_count": null,
   "metadata": {},
   "outputs": [],
   "source": [
    "# If size > size(a), you cannot generate a random sample with choice and replace=False (it does not make sense)\n"
   ]
  },
  {
   "cell_type": "markdown",
   "metadata": {},
   "source": [
    "Other important methods of `np.random` are:\n",
    "- `np.random.seed(value)`: Set the seed of the random number generator (allows to get reproductible results)\n",
    "- `np.random.rand(shape)`: generate an array populated with random floats drawn from an uniform distribution. \n",
    "- `np.random.randint(low, high, shape)`: generate an array of random integers between `low` and `high` values. \n",
    "- `np.random.permutation(array_name)`: return a copy of the original array with elements permuted along the first axis of the array. "
   ]
  },
  {
   "cell_type": "markdown",
   "metadata": {},
   "source": [
    "**Exercise**\n",
    "\n",
    "Create a 2D array of 10 rows and 7 columns (with random integer values). \n",
    "- (1) Use `choice` to select at random 5 different rows. \n",
    "- (2) Use `choice` to select at random 3 different columns.\n",
    "- (3) Create an 1-D array representing result of 1000 coin toss (set value `0` for head and `1` for tail using random integers generator). Plot the histogram of their values (using `matplotlib.pyplot.hist`; Note that you can set the number of bins by setting the argument `bins = value`). Set the argument `density` of `hist()` to values True and False. What is the difference of behaviour ? \n",
    "- (4) Permute the rows of your 2d array and compare with the original. Permute (=shuffle) the elements of the first row of your original array.  \n",
    "- (5) Fix the seed of your random generator. Create an array `a` of 10 integers between 0 and 10. Redo this operation and save it into an array `b`. Compare `a` and `b`. How should you proceed to have 2 identical arrays ? "
   ]
  },
  {
   "cell_type": "code",
   "execution_count": 40,
   "metadata": {},
   "outputs": [
    {
     "data": {
      "text/plain": [
       "array([[52, 69,  2, 10, 22, 67, 59],\n",
       "       [53, 40, 41, 14, 10, 51, 69],\n",
       "       [12, 47, 27,  6, 13, 20,  6],\n",
       "       [11, 25, 31, 54, 12, 64,  8],\n",
       "       [22, 18, 33,  6, 69, 41, 35],\n",
       "       [35, 53, 54, 13, 21, 10, 41],\n",
       "       [23,  8,  4, 10, 54, 18, 44],\n",
       "       [58, 19, 36, 47, 59, 51, 20],\n",
       "       [ 6, 24,  7, 57, 22, 57, 21],\n",
       "       [24, 69, 62, 39, 43, 31, 68]])"
      ]
     },
     "execution_count": 40,
     "metadata": {},
     "output_type": "execute_result"
    }
   ],
   "source": [
    "# Create a 2D array \n",
    "np.random.randint(0, 70, (10,7))"
   ]
  },
  {
   "cell_type": "code",
   "execution_count": 42,
   "metadata": {},
   "outputs": [],
   "source": [
    "# Select at random 5 different rows\n",
    "np.random.seed(3)\n",
    "np"
   ]
  },
  {
   "cell_type": "code",
   "execution_count": null,
   "metadata": {},
   "outputs": [],
   "source": [
    "# Select 3 columns ids\n"
   ]
  },
  {
   "cell_type": "code",
   "execution_count": null,
   "metadata": {},
   "outputs": [],
   "source": [
    "# (3) 1D array representing 1000 coin toss and histogram. "
   ]
  },
  {
   "cell_type": "code",
   "execution_count": null,
   "metadata": {},
   "outputs": [],
   "source": [
    "# (4) Permutions of the rows of my 2d array"
   ]
  },
  {
   "cell_type": "code",
   "execution_count": null,
   "metadata": {},
   "outputs": [],
   "source": [
    "# Permutations of the first row of the original array "
   ]
  },
  {
   "cell_type": "code",
   "execution_count": null,
   "metadata": {},
   "outputs": [],
   "source": [
    "# (5) Fix the seed of your random generator. Create an array `a` of 10 integers between 0 and 10. \n",
    "# Redo this operation and save it into an array `b`. Compare `a` and `b`. "
   ]
  },
  {
   "cell_type": "code",
   "execution_count": null,
   "metadata": {},
   "outputs": [],
   "source": [
    "#How should you proceed to have 2 identical arrays ?  \n"
   ]
  },
  {
   "cell_type": "markdown",
   "metadata": {},
   "source": [
    "### I.4 What is a probability density function ? <a class=\"anchor\" id=\"pdf\"></a>\n",
    "\n",
    "We will generally be dealing with probability *densities*, that is, $p(x)\\,\\rm{d}x$ is the probability of a value falling between $x$ and $x \\,+\\, {\\rm{d}}x$.\n",
    "\n",
    "Remember the histogram, counting your measurements (cf exercise (3) above), setting the density to `True`. You have $\\sum p(x) \\delta x = 1$ (where $\\delta x$ = bin width). This is a probability density function (effectively a probability mass function because you work with discrete variables).      \n",
    "\n",
    "Probability densities are normalized such that the union of all possible events has a probability of unity; mathematically that criterion looks like this:\n",
    "\n",
    "$$\n",
    "\\int p(x)\\,{\\rm{d}}x = 1\n",
    "$$\n",
    "\n",
    "Among other things, consider the **units** implied by this expression: because probability is dimensionless, the *units of $p(x)$* must be the *inverse of the units of $x$*.\n",
    "This can be very useful to keep in mind as you manipulate probabilistic expressions!\n"
   ]
  },
  {
   "cell_type": "markdown",
   "metadata": {},
   "source": [
    "#### (Formal) definition:  \n",
    "\n",
    "Let's first define a function that is such that $H_X(x_0)$ expresses the probability for a random variable $x < x_0$. We would have, by definition, $H_X(-\\infty) = 0$ and $H_X(+\\infty) = 1$.   \n",
    "We can then define the **probability density function** (aka **pdf**) $h_X(x)$ as:\n",
    "\n",
    "$$\n",
    "h_X(x) = \\frac{{\\rm d}H_X(x)}{{\\rm d}x}\n",
    "$$\n",
    "\n",
    "It results that:\n",
    "\n",
    "$$\n",
    "p(x\\, \\in [x, x+{\\rm d}x[) \\, = \\, H_X(x) - H_X(x+{\\rm d}x) = h_X(x)\\, {\\rm d}x\n",
    "$$\n",
    "\n",
    "Hence, the **probability density function** (aka **pdf**) $h_X(x)$ is a function that quantifies the probability that the value of a random variable $X$ falls between $x$ and $x+{\\rm d}x$. That probability equals to $h_X(x)\\,{\\rm d}x$. The term *probability distribution* or *differential distribution function* is also used (especially by astronomers ...).\n",
    "\n",
    "We can generalize to multiple variables. The probability for $x < x_0$, and $y < y_0$ is $H(x_0, y_0)$ and the associated pdf is $h(x_0, y_0)\\, {\\rm d}x \\, {\\rm d}y$. The two random variables are independant if $h(x, y) = f(x)~g(y)$ for all values of $x$ and $y$. Note that when two independent random variable are *independently* drawn from the same distribution (i.e.  $h(x, y) = f(x)~f(y)$), one speaks of **independent identically distributed** (iid) random variables. In this case, we obviously have $p(x, y)\\,=\\,p(x)~p(y)$\n"
   ]
  },
  {
   "cell_type": "markdown",
   "metadata": {},
   "source": [
    "**Example:**    \n",
    "You know several pdf, such as the *uniform* and the *normal* (aka gaussian) pdf.  \n",
    "A *uniform* pdf is such that:\n",
    "\n",
    "$$\n",
    "\\begin{array} \\\\ \n",
    "   h(x)    & = \\frac{1}{b-a} \\,\\, {\\rm{if}}\\,a\\,\\leq\\,x\\,\\leq\\,b \\\\\n",
    "   h(x)    & = 0 \\,\\,\\, {\\rm{otherwise} }  \\\\\n",
    "\\end{array}\n",
    "$$\n",
    "\n",
    "The gaussian pdf of mean $\\mu$ and standard deviation $\\sigma$ is:\n",
    "\n",
    "$$\n",
    "h(x ; \\mu, \\sigma) = \\frac{1}{\\sqrt{2\\pi}\\,\\sigma} \\exp \\left( -\\frac{1}{2}\\frac{(x-\\mu)^2}{\\sigma^2}\\right)\n",
    "$$\n",
    "\n",
    "It is important to keep in mind that, as a probability can't be larger than 1, the integral of $h(x)$ over that integration domain has to be 1, otherwise we do not have a properly normalised pdf. This explains the  normalisation $1/\\sqrt{2\\pi}\\,\\sigma$ in front of of the gaussian pdf. "
   ]
  },
  {
   "cell_type": "markdown",
   "metadata": {},
   "source": [
    "#### Definition addendum:\n",
    "\n",
    "In cases where random variables are **discrete** ($H_X(x)$ is then an ensemble of delta functions that are not differentiable), one rather speaks of **probability mass function** (pmf). In this case, $X$ may take a (finite) number of values ${x_1, x_2, ..., x_n}$ and the mass function is simply:\n",
    "$$\n",
    "h_X(x) = p(X\\,=\\,x)\n",
    "$$\n",
    "\n",
    "The Poisson or Bernouilli distribution are examples of pmf. \n",
    "\n",
    "As the statistical context of the lectures is clear, we also generally drop the index \"X\", that is there to stress that we speak of a function of a random variable (and not of a normal mathematical variable) when writing the pdf. Hence, we will write $h(x)$ instead of $h_X(x)$. "
   ]
  },
  {
   "cell_type": "markdown",
   "metadata": {},
   "source": [
    "#### Relevance of pdf for statistical inference:\n",
    "\n",
    "Probability density function is at the heart of data mining, and data analysis in general. A key question is indeed to figure out what is the pdf $h_X(x)$ that is behind a set of random variables (directly observed or predicted by a model fed by some data). I.e. we generally try to answer the question \"From which pdf $h(x)$ are drawn my $x$ ?\". In Bayesian inference, one tries to derive the (posterior) pdf associated to a quantity. Why are we interested by those ? Because they tell us something about the probability of an event/observation to occur or help us to figure out whether a physical model is sensible *given* the observations in hands.  \n",
    "\n",
    "\n",
    "Following the convention of our [reference book](#book), we use $h(x)$ when we refer to the *true* pdf (or **population** pdf), and $f(x)$ when we refer to its *data* derived estimate (**empirical** pdf). Since $x$ are generally measured with errors, it may be that $f(x)$ does not tend to $h(x)$ even for an infinite number of measurements (we end up with a \"blurred\" or \"broadened\" version of the pdf). Because $h(x)$ gives the probability that $x$ falls in an (infinitely) small interval $x, x+{\\rm{d}}x$, the pdf is also sometimes written $p(x)$ (cf Chapter 3 of our [reference book](#book)). \n",
    "\n",
    "As we said, $f(x)$ is a *model* of the *true* distribution $h(x)$. We observe data points that are *samples* of the true distribution $h(x)$. In general, we do not know $h(x)$ and we have to guess its functional form. This function form can either be \"parametric\" (e.g. a gaussian) or \"non parametric\" (e.g. a sum of small gaussians that mimic a more complex pdf). "
   ]
  },
  {
   "cell_type": "markdown",
   "metadata": {},
   "source": [
    "**Examples of pdf in scientific papers:**\n",
    "\n",
    "- Marginalised pdf on H0 in Fig. 4 Bonvin et al. 2017 http://arxiv.org/abs/1607.01790 \n",
    "![ima](../Figures/HOLICOW_pdf.png)\n",
    "- 2D PDF on pairs of gravitational lensing parameters in Fig. 7 of Hartley et al. 2019 http://arxiv.org/abs/1901.05791v1 \n",
    "- Probability Density Function for frequency of Jovian-mass planets around intermediate-mass stars interiorto∼3 AU: Figure 13 of Bowler et al. 2009 https://arxiv.org/abs/0912.0518 "
   ]
  },
  {
   "cell_type": "markdown",
   "metadata": {},
   "source": [
    "#### Python implementation\n",
    "\n",
    "A large number of distribution functions are implemented in `scipy.stats`, such as the binomial distribution, poisson distribution, gaussian distribution, chi2, Cauchy distribution, ... To use them you simply have to:     \n",
    "\n",
    "**Method 1**\n",
    "\n",
    "You work in two steps. It allows you to calculate multiple quantities associated to a distribution. \n",
    "\n",
    "- 1) **Create an instance of an object \"distribution\"** with some fixed parameters:    \n",
    "e.g. \n",
    "\n",
    "``` python\n",
    "# Create a gaussian function with parameters mu=0, sigma=2\n",
    "g = scipy.stats.norm(0, 2)  \n",
    "\n",
    "# Poisson distribution for 10 events\n",
    "pois = scipy.stats.poisson(10)  \n",
    "```\n",
    "\n",
    "**Note:** The help of `scipy` distribution generally refers to the `loc` and `scale` keywords associated to the distribution. The `loc` corresponds to the `mean` (i.e. expectation value of order 1 moment) and the `scale` corresponds to the `standard deviation`. "
   ]
  },
  {
   "cell_type": "code",
   "execution_count": 5,
   "metadata": {},
   "outputs": [],
   "source": [
    "g = scipy.stats.norm(0, 2)   # Equivalently use: g = scipy.stats.norm(loc=0, scale=2.)"
   ]
  },
  {
   "cell_type": "markdown",
   "metadata": {},
   "source": [
    "- 2) Calculate **properties associated to (the instance of) this object** using a set of *specific methods*. For the pdf, use the method pdf: \n",
    "\n",
    "``` python\n",
    "# Evaluate the pdf / pmf associated to our objects g / pois at \"position\" x / k\n",
    "\n",
    "g_pdf = g.pdf(x) # x is either a numpy array or a specific value\n",
    "\n",
    "pois_pmf = pois.pmf(k)  # k is an array of integers or a specific value\n",
    "```\n",
    "\n",
    "**Method 2**\n",
    "\n",
    "You can generate a `pdf` associated to a normal distribtuion with a single command line: \n",
    "\n",
    "``` python \n",
    "x = np.arange(-10,10,0.1) # Create an array over which you want to evaluate the pdf\n",
    "\n",
    "y = scipy.stats.norm.pdf(x, loc=0, scale=2)   # for a gaussian of mean mu=0, sigma=2\n",
    "```\n"
   ]
  },
  {
   "cell_type": "code",
   "execution_count": 6,
   "metadata": {},
   "outputs": [
    {
     "data": {
      "text/plain": [
       "[<matplotlib.lines.Line2D at 0xa5f9be2b0>]"
      ]
     },
     "execution_count": 6,
     "metadata": {},
     "output_type": "execute_result"
    },
    {
     "data": {
      "image/png": "[encoded data removed]",
      "text/plain": [
       "<matplotlib.figure.Figure at 0xa5f91d860>"
      ]
     },
     "metadata": {},
     "output_type": "display_data"
    }
   ],
   "source": [
    "# Use this cell to plot the pdf associated with the gaussian distribution you have generated above\n",
    "x = np.arange(-10,10,0.1)\n",
    "g_pdf = g.pdf(x) \n",
    "plt.plot(x, g_pdf)"
   ]
  },
  {
   "cell_type": "code",
   "execution_count": 7,
   "metadata": {},
   "outputs": [
    {
     "data": {
      "text/plain": [
       "[<matplotlib.lines.Line2D at 0xa5fc36208>]"
      ]
     },
     "execution_count": 7,
     "metadata": {},
     "output_type": "execute_result"
    },
    {
     "data": {
      "image/png": "[encoded data removed]",
      "text/plain": [
       "<matplotlib.figure.Figure at 0xa5f9479e8>"
      ]
     },
     "metadata": {},
     "output_type": "display_data"
    }
   ],
   "source": [
    "# Let's now do it for a probability mass function \n",
    "pois = scipy.stats.poisson(10)\n",
    "k=np.arange(100)\n",
    "pois_pmf = pois.pmf(k)\n",
    "plt.plot(k, pois_pmf)"
   ]
  },
  {
   "cell_type": "markdown",
   "metadata": {},
   "source": [
    "Other properties of the object (mean, std, moments, ...) can be calculated as we will see later. It is also possible to draw a random sample that follows the distribution we want to use using `scipy.stats.distribution.rvs()`:\n",
    "``` python\n",
    "# Generate a sample of 1000 points drawn from a gaussian distrib:\n",
    "g_sample = g.rvs(1000)  \n",
    "\n",
    "# Generate a sample of 10 points drawn from a poisson distrib:\n",
    "pois_sample = pois.rvf(10) \n",
    "```\n",
    "\n",
    "See Sect. 3.2 of our reference [book](#book) for an overview of the main distributions implemented in scipy. "
   ]
  },
  {
   "cell_type": "markdown",
   "metadata": {},
   "source": [
    "**Exercises:** \n",
    "\n",
    "- Generate a random sample of n points drawn from the gaussian distribution you defined above. (compare n=10, 100, 1000)\n",
    "- Plot an histogram with the sample of points you have generated. \n",
    "- Plot a canonical gaussian pdf (width =1) and overplot an horizontal line showing its FWHM. \n",
    "- Print at the screen the value of the FWHM and compare the value you expect for a canonical 1D-gaussian (FWHM $= 2 * \\sqrt{2 * \\ln(2)} * \\sigma $) \n",
    "\n",
    "TIP: Keep the value of the FWHM of a Gaussian in mind, you may have to use it often. "
   ]
  },
  {
   "cell_type": "code",
   "execution_count": null,
   "metadata": {},
   "outputs": [],
   "source": [
    "# Use this cell to generate a random sample of points drawn from the gaussian distribution you defined above\n"
   ]
  },
  {
   "cell_type": "code",
   "execution_count": null,
   "metadata": {},
   "outputs": [],
   "source": [
    "# ploting the histogram \n"
   ]
  },
  {
   "cell_type": "code",
   "execution_count": null,
   "metadata": {},
   "outputs": [],
   "source": [
    "# Illustration of a canonical gaussian pdf and overplot of a line showing its FWHM \n"
   ]
  },
  {
   "cell_type": "markdown",
   "metadata": {},
   "source": [
    "### I.4b pdf, conditional probability and Bayes rule for bivariate distributions:  <a class=\"anchor\" id=\"bivariate\"></a>\n",
    "\n",
    "This section (I.4b) is *not* mandatory for the course SPAT0002. It is provided for completeness. \n",
    "\n",
    "When we have 2 *continuous random variables*, we can write: \n",
    "    \n",
    "$$\n",
    "p(x,y) = p(x\\,|\\,y) \\, p(y) = p(y\\,|\\,x) \\, p(x)\n",
    "$$\n",
    "\n",
    "Such a distribution of 2 random variable is called a **bivariate distribution**. \n",
    "\n",
    "The *marginal probability* $p(x)$ (resp $p(y)$) is obtained by integrating $p(x, y)$ over all the probabilities to have obtained $y$ (resp $x$): \n",
    "\n",
    "$$\n",
    "p(x) = \\int p(x,y) \\, {\\rm d}y \n",
    "$$\n",
    "$$\n",
    "p(y) = \\int p(x,y) \\, {\\rm d}x\n",
    "$$\n",
    "\n",
    "Hence, we have: \n",
    "\n",
    "$$\n",
    "p(x)= \\int p(x\\,|\\,y) \\, p(y)  \\, {\\rm d}y\n",
    "$$\n",
    "\n",
    "$$\n",
    "p(y\\,|\\,x) = \\frac{p(x\\, | \\, y) \\, p(y)}{p(x)} = \\frac{p(x\\, | \\, y) \\, p(y)}{\\int p(x\\,|\\,y) \\, p(y)  \\, {\\rm d}y}  \n",
    "$$\n",
    "\n",
    "For a non continuous variable (let's say ${y_j}$ with $j=1, ..., M$), the integral becomes a sum:\n",
    "\n",
    "$$\n",
    "p(y_j\\,|\\,x) = \\frac{p(x\\, | \\, y_j) \\, p(y_j)}{p(x)} = \\frac{p(x\\, | \\, y_j) \\, p(y_j)}{\\sum_{j=1}^M \\, p(x\\,|\\,y_j) \\, p(y_j) }  \n",
    "$$"
   ]
  },
  {
   "cell_type": "markdown",
   "metadata": {},
   "source": [
    "For bi-(multi-)variate distributions, $p(x,y)$, one also defines the **covariance** (assume $<x>\\,=\\,<y>\\,=\\,0$):\n",
    "\n",
    "$$\n",
    "Cov(x,y) = <xy> = \\int_{-\\infty}^{+\\infty}\\int_{-\\infty}^{+\\infty} x y\\,p(x,y) \\rm{d}x\\rm{d}y\n",
    "$$\n",
    "\n",
    "We can also define a dimensionless **correlation coefficient** (assuming zero mean): \n",
    "\n",
    "$$\n",
    "r = \\frac{<xy>}{\\sqrt{<x^2><y^2>}} . \n",
    "$$\n",
    "\n",
    "if $r = 1$ ($r = -1$) the two RV are (anti-)correlated, and independent if $r=0$. \n",
    "\n",
    "#### Example\n",
    "\n",
    "Use of `scipy.stats.multivariate_normal()` for a multivariate gaussian distribution "
   ]
  },
  {
   "cell_type": "code",
   "execution_count": 3,
   "metadata": {},
   "outputs": [
    {
     "data": {
      "text/plain": [
       "Text(0.5,1,'$p(y | x =2.00 )$')"
      ]
     },
     "execution_count": 3,
     "metadata": {},
     "output_type": "execute_result"
    },
    {
     "data": {
      "image/png": "[encoded data removed]",
      "text/plain": [
       "<matplotlib.figure.Figure at 0xa53482e10>"
      ]
     },
     "metadata": {},
     "output_type": "display_data"
    }
   ],
   "source": [
    "step = 0.01\n",
    "x, y = np.arange(-4.,4.,step), np.arange(-4,4.,step)\n",
    "X, Y = np.meshgrid(x,y)\n",
    "# X, Y = np.mgrid[-4:4:.01, -4:4:.01]    # Alternative command to generate a meshgrid!\n",
    "# I now create a 3D array containing the X and Y coordinates\n",
    "pos = np.zeros(X.shape + (2,))   \n",
    "pos[:, :, 0] = X\n",
    "pos[:, :, 1] = Y\n",
    "# define xid: index of xarray for which I want to know the conditional pdf p(y | x)\n",
    "xid = 600\n",
    "# Non isotropic bivariate distribution\n",
    "n_2d = scipy.stats.multivariate_normal(mean=[0.5, 0.], cov=[[2.0, 0.3], [0.3, 0.5]])\n",
    "f, ax = plt.subplots(figsize=(20,5), ncols=3)\n",
    "ax[0].contourf(X, Y, n_2d.pdf(pos))\n",
    "ax[0].vlines(x[xid]-step/2., -4, 4, color='red')\n",
    "ax[0].vlines(x[xid]+step/2., -4, 4, color='red')\n",
    "# Calculates the marginalised pdf\n",
    "ax[1].plot(y, n_2d.pdf(pos).sum(axis=1))  # I sum over the x axis \n",
    "ax[1].set_title('Marginalized pdf: $p(y)$')\n",
    "# Plot p(y | x=xval)\n",
    "ax[2].plot(y, n_2d.pdf(pos)[:, xid]   / n_2d.pdf(pos).sum(axis=0)[xid]) # Note the renormalisation by p(x) at x=xid\n",
    "ax[2].set_title('$p(y | x =%.2f )$'%x[xid])"
   ]
  },
  {
   "cell_type": "markdown",
   "metadata": {},
   "source": [
    "### I.5 What is a cumulative density function ? \n",
    "\n",
    "\n",
    "The *integral of a pdf* is called **cumulative density function**. \n",
    "$$\n",
    "p(X \\leq x) = H(x) = \\int_{-\\infty}^{x}\\, h(x') \\, {\\rm d}x'\n",
    "$$\n",
    "\n",
    "Hence, the CDF if basically the function $H_X(x)$ we have defined in the first place to introduce the pdf. \n",
    "\n",
    "Obviously/by definition, we have that the integral of H(x) (i.e. between $-\\infty$ and $+\\infty$) is equal to 1.   \n",
    "\n",
    "Let's visualise the CDF $H(x_0) = p(X \\leq x_0)$, in the case of a gaussian PDF. We see that this is the area below the PDF between $-\\infty$ and $x_0$.    "
   ]
  },
  {
   "cell_type": "code",
   "execution_count": 39,
   "metadata": {},
   "outputs": [
    {
     "data": {
      "text/plain": [
       "Text(-1.6,0.1,'$H(x_0) = p(X \\\\leq x_0)$')"
      ]
     },
     "execution_count": 39,
     "metadata": {},
     "output_type": "execute_result"
    },
    {
     "data": {
      "image/png": "[encoded data removed]",
      "text/plain": [
       "<matplotlib.figure.Figure at 0xa70e91c18>"
      ]
     },
     "metadata": {},
     "output_type": "display_data"
    }
   ],
   "source": [
    "x = np.arange(-6,6,0.01)\n",
    "x0 = 1.   # let's take x0 = 1 \n",
    "id_x0 = np.searchsorted(x, x0)\n",
    "g = scipy.stats.norm(loc=0, scale=1)\n",
    "f, ax = plt.subplots(ncols=1, figsize=(10, 5))\n",
    "ax.plot(x, g.pdf(x), color='black', lw=2)\n",
    "ax.vlines(x0, 0, g.pdf(x0), color='red', lw=3)\n",
    "ax.fill_between(x[:id_x0], 0, g.pdf(x[:id_x0]), color='orange', alpha=0.6)\n",
    "ax.set_ylabel('h(x)', size=16)\n",
    "ax.set_xlabel('x', size=16)\n",
    "ax.text(0.7, -0.02, r'$x_0$', size=14, color='red')\n",
    "ax.text(-1.6, 0.1, r'$H(x_0) = p(X \\leq x_0)$', size=13)"
   ]
  },
  {
   "cell_type": "markdown",
   "metadata": {},
   "source": [
    "The CDF provides a direct way to calculate the probability for the value of a random variable $X$ to be between 2 values $x_1$ and $x_2$. If $x_1 < x_2$, then $P(x_1 < X < x_2) = H(x_2) - H(x_1)$. On the above figure, this would be the difference of area up to $x_2$ minus the area up to $x_1$.   \n",
    "\n",
    "Hence, you know how to derive the *p% quantile* of a distribution. $q_p$ defined as:\n",
    "\n",
    "$$\n",
    "\\frac{p}{100} = \\int_{-\\infty}^{q_p} h(x) dx\n",
    "$$\n",
    "\n",
    "$q_{25}$, $q_{50}$ and $q_{75}$ are commonly called the first, second and third *quartile* or 25 / 50 / 75 *percentile* of the distribution. $q_{75} - q_{25}$ is called *interquartile range* and provides a robust estimate of the width of a distribution. By definition, the *interquartile range* contains 50% of the surface behind the CDF / PDF and hence 0.5 of the probability (centered on the median). We will see later how to use percentiles to calculate confidence intervals. \n",
    "\n",
    "Note that *lowercase* letters are used for probability density (differential distribution) functions (pdf), and upper case for their cumulative counterpart (CDF).\n",
    "\n",
    "**Example**:\n",
    "\n",
    "An important CDF is the one of the gaussian distribution:\n",
    "\n",
    "$$\n",
    "H(x\\,|\\,\\mu, \\sigma) = \\frac{1}{\\sqrt{2\\pi}\\,\\sigma} ~ \\int_{-\\infty}^{x} \\exp \\left( -\\frac{1}{2}\\frac{(x'-\\mu)^2}{\\sigma^2}\\right) {\\rm d}x'. \n",
    "$$\n",
    "\n",
    "This function is generally evaluated in terms of what is called the *Gauss error function* :   \n",
    "$$\n",
    "\\rm{erf}(z) = \\frac{2}{\\sqrt{\\pi}}~\\int_0^z \\exp(-t^2)\\,{\\rm{d}}t.\n",
    "$$\n",
    "\n",
    "This function can be evaluated using `scipy.special.erf()`. \n",
    "\n",
    "Using the error function, the CDF of a Gaussian distribution can be re-written:\n",
    "\n",
    "$$\n",
    "H(x\\,|\\,\\mu, \\sigma) = \\frac{1}{2}~\\left( 1 \\pm erf \\left( \\frac{|x-\\mu|}{\\sqrt{2}\\sigma} \\right)  \\right),\n",
    "$$\n",
    "\n",
    "with \"+\" sign if $x > \\mu$, and \"-\" sign if $x<\\mu$. "
   ]
  },
  {
   "cell_type": "code",
   "execution_count": 4,
   "metadata": {},
   "outputs": [
    {
     "data": {
      "text/plain": [
       "<matplotlib.collections.LineCollection at 0xa5f970128>"
      ]
     },
     "execution_count": 4,
     "metadata": {},
     "output_type": "execute_result"
    },
    {
     "data": {
      "image/png": "[encoded data removed]",
      "text/plain": [
       "<matplotlib.figure.Figure at 0x13859f4e0>"
      ]
     },
     "metadata": {},
     "output_type": "display_data"
    }
   ],
   "source": [
    "# CDF of a gaussian\n",
    "f, ax = plt.subplots(nrows=1)\n",
    "n = scipy.stats.norm(0, 1)\n",
    "x=np.linspace(-5,5, 100)\n",
    "g_cdf = n.cdf(x)\n",
    "ax.plot(x, g_cdf, lw=1, color=\"blue\")\n",
    "ax.vlines(0, 0,0.5)"
   ]
  },
  {
   "cell_type": "markdown",
   "metadata": {},
   "source": [
    "*How to read up the percentile / probability from the CDF in python ?*\n",
    "\n",
    "If you want to know for which value of $x$ we have a given probability/percentile, you may use the \"percent point function\" or `ppf` (i.e. the inverse of the `cdf`). To know for which $x$ one gets a specific $q$ ($0 < q < 1$), you may use the command: `scipy.stats.distrib.ppf(q)`  (replace `distrib` by the name of the distribution you are interested in). "
   ]
  },
  {
   "cell_type": "markdown",
   "metadata": {},
   "source": [
    "**Exercise:**\n",
    "\n",
    "- Use `ppf` to calculate the interquartile range $q_{75}− q_{25}$ for a Gaussian/Normal distribution   \n",
    "\n",
    "- Bonus: From the above definition, it is clear that:\n",
    "\n",
    "$$\n",
    "p(a < x < b\\,| \\,\\mu, \\sigma) = P(b \\, | \\,\\mu, \\sigma)-P(a \\,| \\, \\mu, \\sigma)\n",
    "$$\n",
    "\n",
    "Derive the probability that $p(\\mu - M\\,\\sigma < x < \\mu + M \\, \\sigma)$ for M = 1, 2, 3 and calculates its values with `scipy`. \n"
   ]
  },
  {
   "cell_type": "code",
   "execution_count": null,
   "metadata": {},
   "outputs": [],
   "source": [
    "# Answer\n"
   ]
  },
  {
   "cell_type": "code",
   "execution_count": null,
   "metadata": {},
   "outputs": [],
   "source": []
  },
  {
   "cell_type": "code",
   "execution_count": null,
   "metadata": {},
   "outputs": [],
   "source": []
  },
  {
   "cell_type": "code",
   "execution_count": null,
   "metadata": {},
   "outputs": [],
   "source": []
  },
  {
   "cell_type": "markdown",
   "metadata": {},
   "source": [
    "## Intermezo: Descriptive statistics\n",
    "\n",
    "This section is *not* mandatory if you fulfill the prerequisite for this course. However, if you do not feel confortable with the concepts we have reviewed above, consider runing the following notebooks:     \n",
    "\n",
    "- To review the **properties of probability distribution functions** (mean, standard deviation, variance, skewness, ...), go to the notebook [Descriptive_statistics_01.ipynb](Descriptive_statistics_01.ipynb).    \n",
    "\n",
    "- To **better understand visually the link between PDF and CDF**, and do an interactive tour of the characteristics and properties of **common distributions** encountered in science, then, run the Notebook [Descriptive_statistics_02.ipynb](Descriptive_statistics_02.ipynb). "
   ]
  },
  {
   "cell_type": "markdown",
   "metadata": {},
   "source": [
    "## Summary \n",
    "\n",
    "We have reviewed basic statistical concepts and quantities, and how to use them in python. In particular: \n",
    "- basic probability concepts: a sample, an event, a realisation, a conditional probability (i.e. $p(A|B)$ is probability of $A$ given $B$). \n",
    "- the probability combination rules. \n",
    "- what is a**random variable** (this is a key concept!), and how to generate and manipulate random variable with numpy: `np.random.rand()`, `np.random.seed(value)`, `np.random.randint()`, `np.random.permutation()`\n",
    "- Probability density function (pdf) and Cumulative density function (CDF) (You *need* to understand what are these functions very well !)\n",
    "- How to manipulate distributions with `scipy.stats`. For example, to work with a gaussian, and subsequently calculate pdf, cdf, ... drawn from a gaussian distribution, : `g = scipy.stats.norm()` followed by `g.pdf(x)` to get a pdf sampled for values x (single value or array), `g.cdf(x)` for the cdf(), ...\n",
    "- How to calculate an interquartile range based on the cdf of a function, using the inverse of a cdf, the ppf of percent point function (`scipy.stats.mydistribution.ppf()`). \n",
    "- Use `scipy.special()` to calculate special function, in particular `scipy.special.erf()` which is the Gauss error function.  "
   ]
  },
  {
   "cell_type": "markdown",
   "metadata": {},
   "source": [
    "## X. References and supplementary material: <a class=\"anchor\" id=\"X\"></a>\n",
    "\n",
    "* **Chapter 1** (1.2), **Chapter 3** (3.1, 3.2) and **Chapter 4** (4.1 to 4.3) of the book <a class=\"anchor\" id=\"book\"></a> *Statistics, data mining and Machine learning in astronomy* by Z. Ivezic et al. in Princeton Series in Modern Astronomy. \n",
    "\n",
    "* Youtube video about Random variable and PDF: https://www.youtube.com/watch?v=9KVR1hJ8SxI : First 7 minutes\n",
    "* Youtube video about CDF and its link to PDF: https://www.youtube.com/watch?v=4BswLMKgXzU : First 6 minutes\n",
    "\n",
    "* *All of statistics: a concise course in statistical inference*, Wasserman 2004  <a class=\"anchor\" id=\"WAS04\"></a>(see also errata in http://www.stat.cmu.edu/~larry/all-of-statistics/).  \n",
    "\n",
    "* *Statistics in theory and Practice*, Lupton 1993 <a class=\"anchor\" id=\"LUP93\"></a>: **Chapter 2**\n",
    "\n",
    "* [Numerical recipes](http://www2.units.it/ipl/students_area/imm2/files/Numerical_Recipes.pdf) by Press et al. Cambridge University press: **Chapter 15**, **Chapter 18.7** \n",
    "\n"
   ]
  },
  {
   "cell_type": "code",
   "execution_count": null,
   "metadata": {},
   "outputs": [],
   "source": []
  }
 ],
 "metadata": {
  "anaconda-cloud": {},
  "kernelspec": {
   "display_name": "Python [conda env:intel-python2]",
   "language": "python",
   "name": "conda-env-intel-python2-py"
  },
  "language_info": {
   "codemirror_mode": {
    "name": "ipython",
    "version": 3
   },
   "file_extension": ".py",
   "mimetype": "text/x-python",
   "name": "python",
   "nbconvert_exporter": "python",
   "pygments_lexer": "ipython3",
   "version": "3.6.3"
  }
 },
 "nbformat": 4,
 "nbformat_minor": 2
}
